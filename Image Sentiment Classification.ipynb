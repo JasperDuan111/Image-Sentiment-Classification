{
 "cells": [
  {
   "cell_type": "code",
   "execution_count": 20,
   "id": "ba68d83e",
   "metadata": {},
   "outputs": [],
   "source": [
    "import torch\n",
    "import torch.nn as nn\n",
    "import torch.optim as optim\n",
    "from data import get_data\n",
    "from model import InceptionNet, InceptionNet_simplified, Mynet_v1, Mynet_v2\n",
    "import torchvision.transforms as transforms\n",
    "from PIL import Image, ImageDraw, ImageFont"
   ]
  },
  {
   "cell_type": "code",
   "execution_count": 23,
   "id": "fadc7e29",
   "metadata": {},
   "outputs": [
    {
     "name": "stdout",
     "output_type": "stream",
     "text": [
      "InceptionNet Params: 6,275,687\n",
      "InceptionNet_simplified Params: 2,872,375\n",
      "Mynet_v1 Params: 488,039\n",
      "Mynet_v2 Params: 625,111\n"
     ]
    }
   ],
   "source": [
    "# 计算模型参数量\n",
    "def count_params(model):\n",
    "    return sum(p.numel() for p in model.parameters() if p.requires_grad)\n",
    "\n",
    "models = {\n",
    "    \"InceptionNet\": InceptionNet(),\n",
    "    \"InceptionNet_simplified\": InceptionNet_simplified(),\n",
    "    \"Mynet_v1\": Mynet_v1(),\n",
    "    \"Mynet_v2\": Mynet_v2(),\n",
    "}\n",
    "\n",
    "for name, model in models.items():\n",
    "    print(f\"{name} Params: {count_params(model):,}\")"
   ]
  },
  {
   "cell_type": "code",
   "execution_count": null,
   "id": "5f688dc0",
   "metadata": {},
   "outputs": [],
   "source": [
    "# 模型训练\n",
    "device = torch.device('cuda' if torch.cuda.is_available() else 'cpu')\n",
    "model = Mynet_v2().to(device)\n",
    "model.load_state_dict(torch.load('model/Mynet_v2_acc0.6857.pth', map_location=device, weights_only=True))\n",
    "loss_fn = nn.CrossEntropyLoss()\n",
    "optimizer = optim.AdamW(model.parameters(), lr=3e-4, weight_decay=1e-5)\n",
    "scheduler = optim.lr_scheduler.CosineAnnealingLR(optimizer, T_max=10, eta_min=1e-8)\n",
    "train_loader, test_loader = get_data(batch_size=32)\n",
    "\n",
    "num_epochs = 30\n",
    "best_val_acc = 0.0\n",
    "\n",
    "torch.set_float32_matmul_precision('high')\n",
    "for epoch in range(num_epochs):\n",
    "    model.train()\n",
    "\n",
    "    for batch_idx, (images, labels) in enumerate(train_loader):\n",
    "        images, labels = images.to(device), labels.to(device)\n",
    "        optimizer.zero_grad()\n",
    "        with torch.autocast(device_type='cuda', dtype=torch.bfloat16):\n",
    "            outputs = model(images)\n",
    "            loss = loss_fn(outputs, labels)\n",
    "        loss.backward()\n",
    "        optimizer.step()\n",
    "\n",
    "        if (batch_idx + 1) % 100 == 0:\n",
    "            print(f\"Epoch [{epoch+1}/{num_epochs}], LR: {scheduler.get_last_lr()[0]:.6f}, Batch [{batch_idx+1}/{len(train_loader)}], Train Loss: {loss.item():.4f}\")\n",
    "\n",
    "    scheduler.step()\n",
    "    \n",
    "    model.eval()\n",
    "    val_loss = 0.0\n",
    "    all_predictions = []\n",
    "    all_labels = []\n",
    "    \n",
    "    with torch.no_grad():\n",
    "        for images, labels in test_loader:\n",
    "            images, labels = images.to(device), labels.to(device)\n",
    "            with torch.autocast(device_type='cuda', dtype=torch.bfloat16):\n",
    "                outputs = model(images)\n",
    "                loss = loss_fn(outputs, labels)\n",
    "            val_loss += loss.item()\n",
    "            predicted = outputs.data.argmax(dim=1)\n",
    "            all_predictions.append(predicted)\n",
    "            all_labels.append(labels)\n",
    "    \n",
    "    avg_val_loss = val_loss / len(test_loader)\n",
    "\n",
    "    all_predictions = torch.cat(all_predictions)\n",
    "    all_labels = torch.cat(all_labels)\n",
    "    val_acc = (all_predictions == all_labels).float().mean().item()\n",
    "\n",
    "    print(\"=\"*70)\n",
    "    print(f\"Epoch [{epoch+1}/{num_epochs}]\")\n",
    "    print(f\"Val Loss: {avg_val_loss:.4f}\")\n",
    "    print(f\"Val Accuracy: {val_acc:.4f}\")\n",
    "\n",
    "    if val_acc > best_val_acc: \n",
    "        best_val_acc = val_acc\n",
    "        torch.save(model.state_dict(), f'model/{model._get_name()}_acc{best_val_acc:.4f}.pth')\n",
    "        print(\"-\"*70)\n",
    "        print(\"Best model saved with accuracy: {:.4f}\".format(best_val_acc))\n",
    "        print(\"-\"*70)\n",
    "\n",
    "    print(\"=\"*70)"
   ]
  },
  {
   "cell_type": "code",
   "execution_count": 36,
   "id": "9e96beb1",
   "metadata": {},
   "outputs": [
    {
     "name": "stdout",
     "output_type": "stream",
     "text": [
      "Predicted Emotion: surprise\n"
     ]
    }
   ],
   "source": [
    "# 模型测试\n",
    "device = torch.device('cuda' if torch.cuda.is_available() else 'cpu')\n",
    "\n",
    "# model = Mynet_v2().to(device)\n",
    "# model.load_state_dict(torch.load('model/MyNet_v2_acc0.6857.pth', map_location=device, weights_only=True))\n",
    "\n",
    "model = InceptionNet_simplified().to(device)\n",
    "model.load_state_dict(torch.load('model/InceptionNet_simplified_acc0.6959.pth', map_location=device, weights_only=True))\n",
    "image_path = \"test_images/surprise.png\"\n",
    "ori_image = Image.open(image_path)\n",
    "\n",
    "test_transforms = transforms.Compose([\n",
    "    transforms.Resize((48, 48)),\n",
    "    transforms.ToTensor(),\n",
    "    transforms.Normalize(mean=[0.5], std=[0.5]) \n",
    "])\n",
    "\n",
    "image = test_transforms(ori_image.convert(\"L\")).unsqueeze(0).to(device)\n",
    "\n",
    "model.eval()\n",
    "with torch.no_grad():\n",
    "    output = model(image)\n",
    "    prediction = output.argmax(dim=1)\n",
    "\n",
    "emotion_dict = {\n",
    "            'angry': 0,\n",
    "            'disgust': 1,\n",
    "            'fear': 2,\n",
    "            'happy': 3,\n",
    "            'neutral': 4,\n",
    "            'sad': 5,\n",
    "            'surprise': 6\n",
    "        }\n",
    "\n",
    "predicted_emotion = [key for key, value in emotion_dict.items() if value == prediction.item()][0]\n",
    "print(f\"Predicted Emotion: {predicted_emotion}\")\n",
    "\n",
    "draw = ImageDraw.Draw(ori_image)\n",
    "font = ImageFont.load_default()\n",
    "text = f\"Predicted: {predicted_emotion}\"\n",
    "draw.text((10, 10), text, fill=(50, 0, 0), font=font)\n",
    "\n",
    "ori_image.show()\n",
    "ori_image.save(f\"test_images/{predicted_emotion}_result.png\")\n"
   ]
  }
 ],
 "metadata": {
  "kernelspec": {
   "display_name": "ml",
   "language": "python",
   "name": "python3"
  },
  "language_info": {
   "codemirror_mode": {
    "name": "ipython",
    "version": 3
   },
   "file_extension": ".py",
   "mimetype": "text/x-python",
   "name": "python",
   "nbconvert_exporter": "python",
   "pygments_lexer": "ipython3",
   "version": "3.10.18"
  }
 },
 "nbformat": 4,
 "nbformat_minor": 5
}
